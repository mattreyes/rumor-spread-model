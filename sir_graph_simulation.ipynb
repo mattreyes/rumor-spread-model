{
 "cells": [
  {
   "cell_type": "code",
   "execution_count": 1,
   "metadata": {},
   "outputs": [],
   "source": [
    "import matplotlib\n",
    "from graph_tool.all import *\n",
    "import numpy as np\n",
    "import pickle\n",
    "import matplotlib.pyplot as plt\n",
    "from collections import defaultdict"
   ]
  },
  {
   "cell_type": "code",
   "execution_count": 2,
   "metadata": {},
   "outputs": [
    {
     "data": {
      "image/png": "[encoded data removed]",
      "text/plain": [
       "<Figure size 1080x864 with 1 Axes>"
      ]
     },
     "metadata": {
      "needs_background": "light"
     },
     "output_type": "display_data"
    },
    {
     "name": "stdout",
     "output_type": "stream",
     "text": [
      "There are 81306 vertices\n",
      "There are 2420766 edges\n",
      "Graph density is 0.0007323909291994464\n"
     ]
    }
   ],
   "source": [
    "# datasets/facebook_combined.txt is from https://snap.stanford.edu/data/ego-Facebook.html\n",
    "# datasets/twitter_combined.txt is from https://snap.stanford.edu/data/ego-Twitter.html\n",
    "adjacency_list = defaultdict(list)\n",
    "with open(\"datasets/twitter_combined.txt\",\"r\") as f:\n",
    "    edges = np.fromiter((int(n) for x in f.readlines() for n in x.split()), dtype='int')\n",
    "    \n",
    "# remap vertices to their indices\n",
    "unique_vertices = np.unique(edges)\n",
    "num_vertices = len(unique_vertices)\n",
    "vertex_mapping = {vertex: i for i, vertex in enumerate(unique_vertices)}\n",
    "edges = np.fromiter((vertex_mapping[vertex] for vertex in edges), dtype='int')\n",
    "edges = edges.reshape((-1, 2))\n",
    "del unique_vertices\n",
    "del vertex_mapping\n",
    "\n",
    "# Build graph\n",
    "g = Graph(directed=True)  # NOTE: Twitter dataset is directed, Facebook dataset is undirected\n",
    "g.add_vertex(num_vertices)\n",
    "g.add_edge_list(edges)\n",
    "g.vp.colour = g.new_vertex_property(\"vector<double>\")\n",
    "g.vp.state = g.new_vertex_property(\"int16_t\")\n",
    "g.vp.is_new_believer = g.new_vertex_property(\"bool\")\n",
    "\n",
    "plt.figure(figsize=(15, 12))\n",
    "plt.hist(g.get_out_degrees(g.get_vertices()),bins=100)\n",
    "plt.xlabel('Degree')\n",
    "plt.ylabel('Frequency')\n",
    "plt.title('Degree Distribution, SNAP Dataset')\n",
    "plt.show()\n",
    "\n",
    "p = g.num_vertices()\n",
    "q = g.num_edges()\n",
    "density = q  /  (p * (p - 1) / 2)\n",
    "print('There are {0} vertices'.format(p))\n",
    "print('There are {0} edges'.format(q))\n",
    "print('Graph density is {0}'.format(density))"
   ]
  },
  {
   "cell_type": "code",
   "execution_count": 3,
   "metadata": {},
   "outputs": [
    {
     "name": "stdout",
     "output_type": "stream",
     "text": [
      "Global clustering coefficient: 0.36921857191489593 (stddev: 0.01635907811898644)\n"
     ]
    }
   ],
   "source": [
    "clustering_coefficient, clustering_coefficient_stddev = global_clustering(g)\n",
    "print(f\"Global clustering coefficient: {clustering_coefficient} (stddev: {clustering_coefficient_stddev})\")"
   ]
  },
  {
   "cell_type": "code",
   "execution_count": null,
   "metadata": {},
   "outputs": [],
   "source": [
    "c = closeness(g)\n",
    "\n",
    "pos_snap = graph_tool.draw.sfdp_layout(g)\n",
    "\n",
    "graph_draw(\n",
    "    g, \n",
    "    pos = pos_snap,\n",
    "    vertex_fill_color=c,\n",
    "    vertex_size=prop_to_size(c, mi=1, ma=4),\n",
    "    vcmap=matplotlib.cm.gist_heat,\n",
    "    edge_pen_width=0.3,\n",
    "    vorder=c, \n",
    "    output_size=(5000, 5000),\n",
    "    bg_color=[1,1,1,0.8],\n",
    "    output=\"sim_output/SNAP_closeness.png\"\n",
    ")\n",
    "\n",
    "# Inferring structure of network with SBM\n",
    "state = minimize_blockmodel_dl(g)\n",
    "state.draw(pos=pos_snap, bg_color=[0,0,0,1], output_size=(5000, 5000), output=\"sim_output/SNAP_blockmodel.png\",)"
   ]
  },
  {
   "cell_type": "markdown",
   "metadata": {},
   "source": [
    "## Monte Carlo Simulation"
   ]
  },
  {
   "cell_type": "code",
   "execution_count": 5,
   "metadata": {
    "scrolled": false
   },
   "outputs": [],
   "source": [
    "from datetime import datetime\n",
    "from collections import namedtuple\n",
    "from enum import Enum\n",
    "\n",
    "np.random.seed(420)\n",
    "\n",
    "class UserState(Enum):\n",
    "    IGNORANT = 0\n",
    "    SPREADER = 1\n",
    "    STIFLER = 2\n",
    "\n",
    "BACKGROUND_COLOR = [1, 1, 1, 0.8]\n",
    "USER_STATE_COLORS = {\n",
    "    UserState.IGNORANT: [0, 1, 0, 0.5],\n",
    "    UserState.SPREADER: [1, 0, 0, 0.7],\n",
    "    UserState.STIFLER: [0, 0, 1, 0.5],\n",
    "}\n",
    "NEW_BELIEVER_HALO_COLOR = [1, 1, 0, 1]\n",
    "\n",
    "IMAGE_SIZE = (2000, 2000)\n",
    "\n",
    "SimulationResult = namedtuple(\"SimulationResult\", [\"first_spreader_idx\", \"first_spreader_degree\", \"time_step\", \"rumor_size\"])\n",
    "\n",
    "def simulate_rumour_spread(graph, model_parameters, first_spreader):\n",
    "    time_step = 0\n",
    "    yield time_step, graph.vp.state.a, graph.vp.is_new_believer.a\n",
    "    while np.sum(graph.vp.state.a == UserState.SPREADER.value) > 0:\n",
    "        time_step += 1\n",
    "        graph.vp.is_new_believer.a = False\n",
    "\n",
    "        all_spreaders = np.transpose((graph.vp.state.a == UserState.SPREADER.value).nonzero()).flatten()\n",
    "        np.random.shuffle(all_spreaders)\n",
    "        for spreader in all_spreaders: # visit every spreaders, in random order\n",
    "            friends = graph.get_in_neighbours(spreader)\n",
    "            friends_state = graph.vp.state.a[friends]\n",
    "            ignorant_friends = friends[friends_state == UserState.IGNORANT.value]\n",
    "            spreader_friends = friends[friends_state == UserState.SPREADER.value]\n",
    "            stifler_friends = friends[friends_state == UserState.STIFLER.value]\n",
    "\n",
    "            # if every friend is a stifler, we become a stifler as well\n",
    "            # this is a performance optimization, since a spreader surrounded by only stiflers must eventually become a stifler themselves,\n",
    "            # but this may take a long time so we'll just make them become a stifler immediately\n",
    "            if np.all(friends_state == UserState.STIFLER.value):\n",
    "                graph.vp.state.a[spreader] = UserState.STIFLER.value\n",
    "\n",
    "            # when we share the rumour with ignorant friends, some believe it and become spreaders, and some do not and become stiflers\n",
    "            random_threshold = np.random.random(len(ignorant_friends))\n",
    "            new_believers = ignorant_friends[random_threshold < model_parameters['ignorant_believe_probability']]\n",
    "            new_disbelievers = ignorant_friends[random_threshold >= model_parameters['ignorant_believe_probability']]\n",
    "            graph.vp.state.a[new_believers] = UserState.SPREADER.value\n",
    "            graph.vp.state.a[new_disbelievers] = UserState.STIFLER.value\n",
    "            graph.vp.is_new_believer.a[new_believers] = True\n",
    "            \n",
    "            # when we share the rumour with spreader friends, if any have a different take on the rumour, we start to doubt the rumour and become a stifler\n",
    "            # we assume each interaction is independent, so for N spreader friends this is P(X > 0) = 1 - P(X = 0) where X ~ Binomial(N, p), so 1 - (1 - p)^n\n",
    "            if len(spreader_friends) > 0 and np.random.random() < 1 - (1 - model_parameters['spreader_disagreement_probability']) ** len(spreader_friends):\n",
    "                graph.vp.state.a[spreader] = UserState.STIFLER.value\n",
    "    \n",
    "            # when we share the rumour with stifler friends, each one has a small chance of convincing us to doubt the rumour and become a stifler\n",
    "            # we assume each interaction is independent, so for N stifler friends this is P(X > 0) = 1 - P(X = 0) where X ~ Binomial(N, p), so 1 - (1 - p)^n\n",
    "            if len(stifler_friends) > 0 and np.random.random() < 1 - (1 - model_parameters['spreader_disillusionment_probability']) ** len(stifler_friends):\n",
    "                graph.vp.state.a[spreader] = UserState.STIFLER.value\n",
    "            \n",
    "            # there's a random chance that we'll just forget about or lose interest in the rumour\n",
    "            if np.random.random() < model_parameters['forget_probability']:\n",
    "                graph.vp.state.a[spreader] = UserState.STIFLER.value\n",
    "        yield time_step, graph.vp.state.a, graph.vp.is_new_believer.a\n",
    "\n",
    "\n",
    "def run_simulations(graph, model_parameters, num_sims, draw=False):\n",
    "    sims = []\n",
    "    if draw:\n",
    "        pos = graph_tool.draw.sfdp_layout(graph)\n",
    "    for i in range(num_sims):\n",
    "        if i % 25 == 0:\n",
    "            print(f'{datetime.now()} RUNNING SIMULATION {i}'.format(i))\n",
    "\n",
    "        # initially, no users in the network know about the rumour\n",
    "        graph.vp.state.a = UserState.IGNORANT.value\n",
    "\n",
    "        # introduce a single spreader who introduces the rumour to the network\n",
    "        first_spreader = np.random.randint(0, graph.num_vertices())\n",
    "        graph.vp.state.a[first_spreader] = UserState.SPREADER.value\n",
    "\n",
    "        heard_rumour_fraction = []\n",
    "        max_time_step = 0\n",
    "        for time_step, state, is_new_believer in simulate_rumour_spread(g, model_parameters, first_spreader):\n",
    "            heard_rumour_fraction.append(np.mean(state != UserState.IGNORANT.value))\n",
    "            max_time_step = time_step\n",
    "\n",
    "            if draw:\n",
    "                for v in graph.vertices():\n",
    "                    graph.vp.colour[v] = USER_STATE_COLORS[UserState(graph.vp.state[v])]\n",
    "                graph_draw(\n",
    "                    graph, pos=pos,\n",
    "                    vertex_fill_color=graph.vp.colour, vertex_color=graph.vp.colour, output_size=IMAGE_SIZE, bg_color=BACKGROUND_COLOR, edge_pen_width=0.5,\n",
    "                    vertex_halo=graph.vp.is_new_believer, vertex_halo_color=NEW_BELIEVER_HALO_COLOR,\n",
    "                    output=f'sim_output/sir_{i}_{time_step}.png'\n",
    "                )\n",
    "\n",
    "        sims += [SimulationResult(first_spreader, len(graph.get_in_neighbours(first_spreader)), max_time_step, heard_rumour_fraction)]\n",
    "    return sims\n",
    "\n",
    "model_parameters = {\n",
    "    # when someone hears the rumour for the first time, 20% of the time they will believe it\n",
    "    \"ignorant_believe_probability\": 0.2,\n",
    "    \n",
    "    # when spreader interacts with another spreader, 5% of the time the other spreader will have a different take on the rumour and the original spreader will become disillusioned\n",
    "    \"spreader_disagreement_probability\": 0.05,\n",
    "\n",
    "    # when a spreader interacts with a stifler, 10% of the time the spreader will become disillusioned by the stifler\n",
    "    \"spreader_disillusionment_probability\": 0.1,\n",
    "\n",
    "    # at each timestep, a spreader has a 50% chance of forgetting or losing interest in the rumour\n",
    "    \"forget_probability\": 0.5,\n",
    "}"
   ]
  },
  {
   "cell_type": "code",
   "execution_count": 6,
   "metadata": {},
   "outputs": [
    {
     "name": "stdout",
     "output_type": "stream",
     "text": [
      "2020-03-17 18:13:12.565917 START\n",
      "2020-03-17 18:13:12.566051 RUNNING SIMULATION 0\n",
      "2020-03-17 18:13:21.040272 RUNNING SIMULATION 25\n",
      "2020-03-17 18:13:28.967998 RUNNING SIMULATION 50\n",
      "2020-03-17 18:13:34.561292 RUNNING SIMULATION 75\n",
      "2020-03-17 18:13:44.656165 RUNNING SIMULATION 100\n",
      "2020-03-17 18:13:53.894359 RUNNING SIMULATION 125\n",
      "2020-03-17 18:14:00.738107 RUNNING SIMULATION 150\n",
      "2020-03-17 18:14:08.488358 RUNNING SIMULATION 175\n",
      "2020-03-17 18:14:16.983823 RUNNING SIMULATION 200\n",
      "2020-03-17 18:14:26.940441 RUNNING SIMULATION 225\n",
      "2020-03-17 18:14:39.709912 RUNNING SIMULATION 250\n",
      "2020-03-17 18:14:47.213497 RUNNING SIMULATION 275\n",
      "2020-03-17 18:14:55.942481 RUNNING SIMULATION 300\n",
      "2020-03-17 18:15:05.221373 RUNNING SIMULATION 325\n",
      "2020-03-17 18:15:13.335373 RUNNING SIMULATION 350\n",
      "2020-03-17 18:15:19.341755 RUNNING SIMULATION 375\n",
      "2020-03-17 18:15:27.946236 RUNNING SIMULATION 400\n",
      "2020-03-17 18:15:35.278561 RUNNING SIMULATION 425\n",
      "2020-03-17 18:15:40.151488 RUNNING SIMULATION 450\n",
      "2020-03-17 18:15:49.956207 RUNNING SIMULATION 475\n"
     ]
    }
   ],
   "source": [
    "print(datetime.now(), \"START\")\n",
    "sims = run_simulations(g, model_parameters, num_sims=500)\n",
    "\n",
    "# Pickle sim data to a file\n",
    "with open(\"sim_output/sims_test.dat\", \"wb\") as f:\n",
    "    pickle.dump(sims, f)"
   ]
  },
  {
   "cell_type": "code",
   "execution_count": null,
   "metadata": {},
   "outputs": [
    {
     "name": "stdout",
     "output_type": "stream",
     "text": [
      "2020-03-17 18:15:56.757768 START\n"
     ]
    }
   ],
   "source": [
    "print(datetime.now(), \"START\")\n",
    "sims = run_simulations(g, model_parameters, num_sims=1, draw=True)"
   ]
  },
  {
   "cell_type": "markdown",
   "metadata": {},
   "source": [
    "## Analysis"
   ]
  },
  {
   "cell_type": "code",
   "execution_count": null,
   "metadata": {},
   "outputs": [],
   "source": [
    "# Load simulation results file\n",
    "with open(\"sim_output/sims_test.dat\", \"rb\") as f:\n",
    "    sims = pickle.load(f)\n",
    "\n",
    "print(len(sims), \"simulations loaded\")\n",
    "\n",
    "max_time_step = max(sim.time_step for sim in sims)\n",
    "print(\"max time steps\", max_time_step)"
   ]
  },
  {
   "cell_type": "code",
   "execution_count": null,
   "metadata": {},
   "outputs": [],
   "source": [
    "plt.figure(figsize=(15, 12))\n",
    "\n",
    "for sim in sims:\n",
    "    plt.plot(sim.rumor_size, alpha=0.1, color='b')\n",
    "\n",
    "plt.ylim(0,1)\n",
    "plt.xticks(range(max_time_step + 2))\n",
    "plt.title(f'Rumor size over time, {len(sims)} simulations')\n",
    "plt.xlabel('timestep ($t$)')\n",
    "plt.ylabel('total rumor size')\n",
    "plt.savefig('sim_output/rumor_size_over_time.png')\n",
    "plt.show()"
   ]
  },
  {
   "cell_type": "code",
   "execution_count": null,
   "metadata": {},
   "outputs": [],
   "source": [
    "plt.figure(figsize=(15, 12))\n",
    "\n",
    "large_sims = [sim for sim in sims if sim.rumor_size[-1] > 0.4]\n",
    "for sim in large_sims:\n",
    "    plt.plot(sim.rumor_size,alpha=0.1,color='b')\n",
    "\n",
    "plt.ylim(0, 1)\n",
    "plt.xticks(range(max_time_step + 2))\n",
    "plt.title(f'Rumor size over time, all {len(large_sims)} (of {len(sims)}) simulations that reach 40%+ of the population')\n",
    "plt.xlabel('timestep ($t$)')\n",
    "plt.ylabel('total rumor size')\n",
    "plt.savefig('sim_output/rumor_size_over_time_large_sims_only.png')\n",
    "\n",
    "plt.show()"
   ]
  },
  {
   "cell_type": "code",
   "execution_count": null,
   "metadata": {},
   "outputs": [],
   "source": [
    "plt.figure(figsize=(15, 12))\n",
    "\n",
    "plt.hist([sim.rumor_size[-1] for sim in sims], bins=20)\n",
    "\n",
    "plt.title('Distribution of final rumour sizes')\n",
    "plt.xlabel('final rumour size')\n",
    "plt.ylabel('frequency')\n",
    "plt.savefig('sim_output/rumour_size_distribution.png')\n",
    "plt.show()"
   ]
  },
  {
   "cell_type": "code",
   "execution_count": null,
   "metadata": {},
   "outputs": [],
   "source": [
    "plt.figure(figsize=(15, 12))\n",
    "\n",
    "plt.scatter([sim.time_step for sim in sims], [sim.rumor_size[-1] for sim in sims], alpha=0.3)\n",
    "\n",
    "plt.title('Duration of simulation vs. final rumour size')\n",
    "plt.xlabel('duration of simulation')\n",
    "plt.ylabel('final rumour size')\n",
    "plt.xticks(range(max_time_step + 3))\n",
    "plt.savefig('sim_output/sim_duration_vs_rumour_size.png')\n",
    "plt.show()"
   ]
  },
  {
   "cell_type": "code",
   "execution_count": null,
   "metadata": {},
   "outputs": [],
   "source": [
    "plt.figure(figsize=(15, 12))\n",
    "\n",
    "plt.scatter([sim.first_spreader_degree for sim in sims], [sim.rumor_size[-1] for sim in sims], alpha=0.3)\n",
    "\n",
    "plt.title('Degree of first spreader vs. final rumour size')\n",
    "plt.xlabel('degree of first spreader')\n",
    "plt.ylabel('final rumour size')\n",
    "plt.savefig('sim_output/first_spreader_degree_vs_rumour_size.png')\n",
    "plt.show()"
   ]
  }
 ],
 "metadata": {
  "kernelspec": {
   "display_name": "Python 3",
   "language": "python",
   "name": "python3"
  },
  "language_info": {
   "codemirror_mode": {
    "name": "ipython",
    "version": 3
   },
   "file_extension": ".py",
   "mimetype": "text/x-python",
   "name": "python",
   "nbconvert_exporter": "python",
   "pygments_lexer": "ipython3",
   "version": "3.7.3"
  }
 },
 "nbformat": 4,
 "nbformat_minor": 2
}
